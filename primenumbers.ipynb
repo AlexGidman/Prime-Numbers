{
 "cells": [
  {
   "attachments": {},
   "cell_type": "markdown",
   "metadata": {},
   "source": [
    "# Prime Numbers\n",
    "A programme that displays the prime numbers between 1 and 100."
   ]
  },
  {
   "cell_type": "code",
   "execution_count": 21,
   "metadata": {},
   "outputs": [
    {
     "name": "stdout",
     "output_type": "stream",
     "text": [
      "Prime numbers between 1 and 100: \n",
      "2, 3, 5, 7, 11, 13, 17, 19, 23, 29, 31, 37, 41, 43, 47, 53, 59, 61, 67, 71, 73, 79, 83, 89, 97.\n"
     ]
    }
   ],
   "source": [
    "# List to store prime numbers\n",
    "\n",
    "primes = []\n",
    "\n",
    "\n",
    "# Prime numbers between a & b (insert values as appropriate)\n",
    "\n",
    "a = 1\n",
    "b = 100\n",
    "\n",
    "\n",
    "# Calculate prime numbers for range a to b and store in primes\n",
    "\n",
    "for x in range(a, (b+1)):\n",
    "    count = 0\n",
    "    for y in range(a, (b+1)):\n",
    "        if count > 2:\n",
    "            break\n",
    "        if x % y == 0:\n",
    "            count += 1\n",
    "    if count == 2:\n",
    "        primes.append(x)\n",
    "\n",
    "\n",
    "# Print out all values of primes with user-friendly formatting.\n",
    "\n",
    "print(f'Prime numbers between {a} and {b}: ')\n",
    "\n",
    "for num in primes:\n",
    "    if num == primes[len(primes)-1]:\n",
    "        print(num, end='.\\n')\n",
    "    else:\n",
    "        print(num, end=', ')"
   ]
  }
 ],
 "metadata": {
  "kernelspec": {
   "display_name": "Python 3",
   "language": "python",
   "name": "python3"
  },
  "language_info": {
   "codemirror_mode": {
    "name": "ipython",
    "version": 3
   },
   "file_extension": ".py",
   "mimetype": "text/x-python",
   "name": "python",
   "nbconvert_exporter": "python",
   "pygments_lexer": "ipython3",
   "version": "3.7.6"
  }
 },
 "nbformat": 4,
 "nbformat_minor": 4
}
